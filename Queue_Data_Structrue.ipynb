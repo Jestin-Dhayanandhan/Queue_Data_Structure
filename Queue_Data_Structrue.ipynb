{
 "cells": [
  {
   "cell_type": "code",
   "execution_count": 23,
   "id": "51da1c29-26ef-4717-9180-d2333247ce90",
   "metadata": {},
   "outputs": [
    {
     "name": "stdin",
     "output_type": "stream",
     "text": [
      "Give limit for queue: 3\n"
     ]
    },
    {
     "name": "stdout",
     "output_type": "stream",
     "text": [
      "'Enter Your choice:-\n",
      "\t1.Enqueue\n",
      "\t2.Dequeue\n",
      "\t3.Display\n",
      "\t4.sort(high to low)\n",
      "\t5.sort(low to high)\n",
      "\t6.Update\n",
      "\t7.serach\n",
      "\t8.Exit\n"
     ]
    },
    {
     "name": "stdin",
     "output_type": "stream",
     "text": [
      "Enter your choice: 1\n",
      "Enter a elemnt to add in queue: 10\n"
     ]
    },
    {
     "name": "stdout",
     "output_type": "stream",
     "text": [
      "'Enter Your choice:-\n",
      "\t1.Enqueue\n",
      "\t2.Dequeue\n",
      "\t3.Display\n",
      "\t4.sort(high to low)\n",
      "\t5.sort(low to high)\n",
      "\t6.Update\n",
      "\t7.serach\n",
      "\t8.Exit\n"
     ]
    },
    {
     "name": "stdin",
     "output_type": "stream",
     "text": [
      "Enter your choice: 1\n",
      "Enter a elemnt to add in queue: 20\n"
     ]
    },
    {
     "name": "stdout",
     "output_type": "stream",
     "text": [
      "'Enter Your choice:-\n",
      "\t1.Enqueue\n",
      "\t2.Dequeue\n",
      "\t3.Display\n",
      "\t4.sort(high to low)\n",
      "\t5.sort(low to high)\n",
      "\t6.Update\n",
      "\t7.serach\n",
      "\t8.Exit\n"
     ]
    },
    {
     "name": "stdin",
     "output_type": "stream",
     "text": [
      "Enter your choice: 1\n",
      "Enter a elemnt to add in queue: 30\n"
     ]
    },
    {
     "name": "stdout",
     "output_type": "stream",
     "text": [
      "'Enter Your choice:-\n",
      "\t1.Enqueue\n",
      "\t2.Dequeue\n",
      "\t3.Display\n",
      "\t4.sort(high to low)\n",
      "\t5.sort(low to high)\n",
      "\t6.Update\n",
      "\t7.serach\n",
      "\t8.Exit\n"
     ]
    },
    {
     "name": "stdin",
     "output_type": "stream",
     "text": [
      "Enter your choice: 7\n",
      "Enter a exit value to search: 30\n"
     ]
    },
    {
     "name": "stdout",
     "output_type": "stream",
     "text": [
      "30 found at 2\n",
      "'Enter Your choice:-\n",
      "\t1.Enqueue\n",
      "\t2.Dequeue\n",
      "\t3.Display\n",
      "\t4.sort(high to low)\n",
      "\t5.sort(low to high)\n",
      "\t6.Update\n",
      "\t7.serach\n",
      "\t8.Exit\n"
     ]
    },
    {
     "name": "stdin",
     "output_type": "stream",
     "text": [
      "Enter your choice: 8\n"
     ]
    },
    {
     "name": "stdout",
     "output_type": "stream",
     "text": [
      "**SAVED**\n"
     ]
    }
   ],
   "source": [
    "#Queue:-\n",
    "def enqueue():\n",
    "    if len(q)==limit:\n",
    "        print(\"No space\")\n",
    "    else:\n",
    "        try:\n",
    "            ele=int(input(\"Enter a elemnt to add in queue:\"))\n",
    "            q.append(ele)\n",
    "        except ValueError:\n",
    "            print(\"**INVALID**\")\n",
    "def dequeue():\n",
    "    if len(q)!=0:\n",
    "        print(q.pop(0))\n",
    "    else:\n",
    "        print(\"***EMPTY***\")\n",
    "\n",
    "def display():\n",
    "    for i in q:\n",
    "        print(i, end=' ')\n",
    "    print()\n",
    "\n",
    "def sort():\n",
    "    dup_q=q.copy()\n",
    "    dup_q.sort(reverse=True)\n",
    "    print(dup_q)\n",
    "\n",
    "def sort1():\n",
    "    dup_q=q.copy()\n",
    "    dup_q.sort()\n",
    "    print(dup_q)\n",
    "\n",
    "def update(oldvalue,newvalue):\n",
    "    for i in range(len(q)):\n",
    "        if q[i]==oldvalue:\n",
    "            q[i]=newvalue\n",
    "            break\n",
    "    else:\n",
    "        print(\"NOT FOUND\")\n",
    "\n",
    "def search(sear):\n",
    "    for i in range(len(q)):\n",
    "        if q[i]==sear:\n",
    "            print(f\"{sear} found at {i}\")\n",
    "            break\n",
    "    else:\n",
    "        print(\"NOT FOUND\")\n",
    "    \n",
    "q=[]\n",
    "limit=int(input(\"Give limit for queue:\"))\n",
    "\n",
    "while True:\n",
    "    print(\"\"\"'Enter Your choice:-\\n\\t1.Enqueue\\n\\t2.Dequeue\\n\\t3.Display\\n\\t4.sort(high to low)\\n\\t5.sort(low to high)\\n\\t6.Update\\n\\t7.serach\\n\\t8.Exit\"\"\")\n",
    "    choice=int(input(\"Enter your choice:\"))\n",
    "    \n",
    "    if choice==1:\n",
    "        enqueue()\n",
    "    elif choice==2:\n",
    "        dequeue()\n",
    "    elif choice==3:\n",
    "        display()\n",
    "    elif choice==4:\n",
    "        sort()\n",
    "    elif choice==5:\n",
    "        sort1()\n",
    "    elif choice==6:\n",
    "        try:\n",
    "            update(int(input(\"Enter a exit value in queue:\")),int(input(\"Enter a replace value in queue:\")))\n",
    "        except ValueError:\n",
    "            print(\"**INVALID**\")\n",
    "    elif choice==7:\n",
    "        try:\n",
    "            search(int(input(\"Enter a exit value to search:\")))\n",
    "        except ValueError:\n",
    "            print(\"**INVALID**\")\n",
    "    elif choice==8:\n",
    "        print(\"**SAVED**\")\n",
    "        break\n",
    "    else:\n",
    "        print(\"**INVALID**\")\n",
    "        "
   ]
  },
  {
   "cell_type": "code",
   "execution_count": 23,
   "id": "62e9ded6-5fcf-4bee-9325-ddc7c236dcab",
   "metadata": {},
   "outputs": [
    {
     "name": "stdin",
     "output_type": "stream",
     "text": [
      "Give limit for queue: 3\n"
     ]
    },
    {
     "name": "stdout",
     "output_type": "stream",
     "text": [
      "'Enter Your choice:-\n",
      "\t1.Enqueue\n",
      "\t2.Dequeue\n",
      "\t3.Display\n",
      "\t4.sort(high to low)\n",
      "\t5.sort(low to high)\n",
      "\t6.Update\n",
      "\t7.serach\n",
      "\t8.Exit\n"
     ]
    },
    {
     "name": "stdin",
     "output_type": "stream",
     "text": [
      "Enter your choice: 1\n",
      "Enter a elemnt to add in queue: 10\n"
     ]
    },
    {
     "name": "stdout",
     "output_type": "stream",
     "text": [
      "'Enter Your choice:-\n",
      "\t1.Enqueue\n",
      "\t2.Dequeue\n",
      "\t3.Display\n",
      "\t4.sort(high to low)\n",
      "\t5.sort(low to high)\n",
      "\t6.Update\n",
      "\t7.serach\n",
      "\t8.Exit\n"
     ]
    },
    {
     "name": "stdin",
     "output_type": "stream",
     "text": [
      "Enter your choice: 1\n",
      "Enter a elemnt to add in queue: 20\n"
     ]
    },
    {
     "name": "stdout",
     "output_type": "stream",
     "text": [
      "'Enter Your choice:-\n",
      "\t1.Enqueue\n",
      "\t2.Dequeue\n",
      "\t3.Display\n",
      "\t4.sort(high to low)\n",
      "\t5.sort(low to high)\n",
      "\t6.Update\n",
      "\t7.serach\n",
      "\t8.Exit\n"
     ]
    },
    {
     "name": "stdin",
     "output_type": "stream",
     "text": [
      "Enter your choice: 1\n",
      "Enter a elemnt to add in queue: 30\n"
     ]
    },
    {
     "name": "stdout",
     "output_type": "stream",
     "text": [
      "'Enter Your choice:-\n",
      "\t1.Enqueue\n",
      "\t2.Dequeue\n",
      "\t3.Display\n",
      "\t4.sort(high to low)\n",
      "\t5.sort(low to high)\n",
      "\t6.Update\n",
      "\t7.serach\n",
      "\t8.Exit\n"
     ]
    },
    {
     "name": "stdin",
     "output_type": "stream",
     "text": [
      "Enter your choice: 7\n",
      "Enter a exit value to search: 30\n"
     ]
    },
    {
     "name": "stdout",
     "output_type": "stream",
     "text": [
      "30 found at 2\n",
      "'Enter Your choice:-\n",
      "\t1.Enqueue\n",
      "\t2.Dequeue\n",
      "\t3.Display\n",
      "\t4.sort(high to low)\n",
      "\t5.sort(low to high)\n",
      "\t6.Update\n",
      "\t7.serach\n",
      "\t8.Exit\n"
     ]
    },
    {
     "name": "stdin",
     "output_type": "stream",
     "text": [
      "Enter your choice: 8\n"
     ]
    },
    {
     "name": "stdout",
     "output_type": "stream",
     "text": [
      "**SAVED**\n"
     ]
    }
   ],
   "source": [
    "#Queue:-\n",
    "def enqueue():\n",
    "    if len(q)==limit:\n",
    "        print(\"No space\")\n",
    "    else:\n",
    "        try:\n",
    "            ele=int(input(\"Enter a elemnt to add in queue:\"))\n",
    "            q.append(ele)\n",
    "        except ValueError:\n",
    "            print(\"**INVALID**\")\n",
    "def dequeue():\n",
    "    if len(q)!=0:\n",
    "        print(q.pop(0))\n",
    "    else:\n",
    "        print(\"***EMPTY***\")\n",
    "\n",
    "def display():\n",
    "    for i in q:\n",
    "        print(i, end=' ')\n",
    "    print()\n",
    "\n",
    "def sort():\n",
    "    dup_q=q.copy()\n",
    "    dup_q.sort(reverse=True)\n",
    "    print(dup_q)\n",
    "\n",
    "def sort1():\n",
    "    dup_q=q.copy()\n",
    "    dup_q.sort()\n",
    "    print(dup_q)\n",
    "\n",
    "def update(oldvalue,newvalue):\n",
    "    for i in range(len(q)):\n",
    "        if q[i]==oldvalue:\n",
    "            q[i]=newvalue\n",
    "            break\n",
    "    else:\n",
    "        print(\"NOT FOUND\")\n",
    "\n",
    "def search(sear):\n",
    "    for i in range(len(q)):\n",
    "        if q[i]==sear:\n",
    "            print(f\"{sear} found at {i}\")\n",
    "            break\n",
    "    else:\n",
    "        print(\"NOT FOUND\")\n",
    "    \n",
    "q=[]\n",
    "limit=int(input(\"Give limit for queue:\"))\n",
    "\n",
    "while True:\n",
    "    print(\"\"\"'Enter Your choice:-\\n\\t1.Enqueue\\n\\t2.Dequeue\\n\\t3.Display\\n\\t4.sort(high to low)\\n\\t5.sort(low to high)\\n\\t6.Update\\n\\t7.serach\\n\\t8.Exit\"\"\")\n",
    "    choice=int(input(\"Enter your choice:\"))\n",
    "    \n",
    "    if choice==1:\n",
    "        enqueue()\n",
    "    elif choice==2:\n",
    "        dequeue()\n",
    "    elif choice==3:\n",
    "        display()\n",
    "    elif choice==4:\n",
    "        sort()\n",
    "    elif choice==5:\n",
    "        sort1()\n",
    "    elif choice==6:\n",
    "        try:\n",
    "            update(int(input(\"Enter a exit value in queue:\")),int(input(\"Enter a replace value in queue:\")))\n",
    "        except ValueError:\n",
    "            print(\"**INVALID**\")\n",
    "    elif choice==7:\n",
    "        try:\n",
    "            search(int(input(\"Enter a exit value to search:\")))\n",
    "        except ValueError:\n",
    "            print(\"**INVALID**\")\n",
    "    elif choice==8:\n",
    "        print(\"**SAVED**\")\n",
    "        break\n",
    "    else:\n",
    "        print(\"**INVALID**\")\n",
    "        "
   ]
  },
  {
   "cell_type": "code",
   "execution_count": null,
   "id": "98a055b1-bc40-4af6-9d4e-3ac680b0fb6a",
   "metadata": {},
   "outputs": [],
   "source": []
  },
  {
   "cell_type": "code",
   "execution_count": null,
   "id": "85719f39-8682-4692-94e3-87d3a5fa8bcc",
   "metadata": {},
   "outputs": [],
   "source": []
  }
 ],
 "metadata": {
  "kernelspec": {
   "display_name": "Python 3 (ipykernel)",
   "language": "python",
   "name": "python3"
  },
  "language_info": {
   "codemirror_mode": {
    "name": "ipython",
    "version": 3
   },
   "file_extension": ".py",
   "mimetype": "text/x-python",
   "name": "python",
   "nbconvert_exporter": "python",
   "pygments_lexer": "ipython3",
   "version": "3.10.5"
  }
 },
 "nbformat": 4,
 "nbformat_minor": 5
}
